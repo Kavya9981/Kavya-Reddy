{
  "nbformat": 4,
  "nbformat_minor": 0,
  "metadata": {
    "colab": {
      "provenance": []
    },
    "kernelspec": {
      "name": "python3",
      "display_name": "Python 3"
    },
    "language_info": {
      "name": "python"
    }
  },
  "cells": [
    {
      "cell_type": "code",
      "execution_count": 1,
      "metadata": {
        "id": "6xAWhkyZk2sp"
      },
      "outputs": [],
      "source": [
        "import pandas as pd\n",
        "import numpy as np\n",
        "from tensorflow import keras\n",
        "from sklearn.model_selection import train_test_split\n",
        "from sklearn.preprocessing import StandardScaler\n",
        "import time"
      ]
    },
    {
      "cell_type": "code",
      "source": [
        "data = pd.read_csv(\"Week_11_data.csv\")\n",
        "X = data.drop('outcome', axis=1)\n",
        "y = data['outcome']\n",
        "\n",
        "# Scale the features\n",
        "scaler = StandardScaler()\n",
        "X_scaled = scaler.fit_transform(X)\n",
        "\n",
        "# Split the data\n",
        "X_train, X_val, y_train, y_val = train_test_split(X_scaled, y, test_size=0.2, random_state=42)"
      ],
      "metadata": {
        "id": "qPeFOzGSnkFX"
      },
      "execution_count": 2,
      "outputs": []
    },
    {
      "cell_type": "code",
      "source": [
        "def train_model(hidden_layers, nodes_per_layer, data_size=None):\n",
        "    if data_size:\n",
        "        # If data_size is specified, use only that much data\n",
        "        X_train_subset = X_train[:data_size]\n",
        "        y_train_subset = y_train[:data_size]\n",
        "    else:\n",
        "        X_train_subset = X_train\n",
        "        y_train_subset = y_train\n",
        "\n",
        "    # Create model\n",
        "    model = keras.Sequential()\n",
        "    model.add(keras.layers.Input(shape=(X.shape[1],)))\n",
        "\n",
        "    # Add hidden layers\n",
        "    for _ in range(hidden_layers):\n",
        "        model.add(keras.layers.Dense(nodes_per_layer, activation='relu'))\n",
        "\n",
        "    # Add output layer\n",
        "    model.add(keras.layers.Dense(1, activation='sigmoid'))\n",
        "\n",
        "    # Compile model\n",
        "    model.compile(optimizer='adam', loss='binary_crossentropy', metrics=['accuracy'])\n",
        "\n",
        "    # Train model with timing\n",
        "    start_time = time.time()\n",
        "    history = model.fit(\n",
        "        X_train_subset, y_train_subset,\n",
        "        epochs=10,\n",
        "        batch_size=32,\n",
        "        validation_data=(X_val, y_val),\n",
        "        verbose=0\n",
        "    )\n",
        "    execution_time = time.time() - start_time\n",
        "\n",
        "    # Get final training and validation error\n",
        "    train_error = 1 - history.history['accuracy'][-1]\n",
        "    val_error = 1 - history.history['val_accuracy'][-1]\n",
        "\n",
        "    return train_error, val_error, execution_time\n",
        "\n",
        "# Run experiments based on the configurations\n",
        "configurations = [\n",
        "    {\"data_size\": 1000, \"hidden_layers\": 1, \"nodes\": 4},\n",
        "    {\"data_size\": 10000, \"hidden_layers\": 1, \"nodes\": 4},\n",
        "    {\"data_size\": 100000, \"hidden_layers\": 1, \"nodes\": 4},\n",
        "    {\"data_size\": 1000, \"hidden_layers\": 2, \"nodes\": 4},\n",
        "    {\"data_size\": 10000, \"hidden_layers\": 2, \"nodes\": 4},\n",
        "    {\"data_size\": 100000, \"hidden_layers\": 2, \"nodes\": 4},\n",
        "]\n",
        "\n",
        "# Run experiments and print results\n",
        "results = []\n",
        "for config in configurations:\n",
        "    print(f\"Running: {config['data_size']} samples, {config['hidden_layers']} hidden layers with {config['nodes']} nodes each\")\n",
        "    train_err, val_err, exec_time = train_model(\n",
        "        config['hidden_layers'],\n",
        "        config['nodes'],\n",
        "        config['data_size']\n",
        "    )\n",
        "    results.append({\n",
        "        \"Configuration\": f\"{config['hidden_layers']} hidden layers, {config['nodes']} nodes\",\n",
        "        \"Data size\": config['data_size'],\n",
        "        \"Training error\": f\"{train_err:.4f}\",\n",
        "        \"Validation error\": f\"{val_err:.4f}\",\n",
        "        \"Time of execution\": f\"{exec_time:.2f} seconds\"\n",
        "    })\n",
        "\n",
        "# Display results\n",
        "results_df = pd.DataFrame(results)\n",
        "print(\"\\nResults:\")\n",
        "print(results_df)"
      ],
      "metadata": {
        "colab": {
          "base_uri": "https://localhost:8080/"
        },
        "id": "p59SA9sbnpi7",
        "outputId": "840dcd5c-e942-462e-d014-5a610af10720"
      },
      "execution_count": 3,
      "outputs": [
        {
          "output_type": "stream",
          "name": "stdout",
          "text": [
            "Running: 1000 samples, 1 hidden layers with 4 nodes each\n",
            "Running: 10000 samples, 1 hidden layers with 4 nodes each\n",
            "Running: 100000 samples, 1 hidden layers with 4 nodes each\n",
            "Running: 1000 samples, 2 hidden layers with 4 nodes each\n",
            "Running: 10000 samples, 2 hidden layers with 4 nodes each\n",
            "Running: 100000 samples, 2 hidden layers with 4 nodes each\n",
            "\n",
            "Results:\n",
            "              Configuration  Data size Training error Validation error  \\\n",
            "0  1 hidden layers, 4 nodes       1000         0.2490           0.2583   \n",
            "1  1 hidden layers, 4 nodes      10000         0.0042           0.0055   \n",
            "2  1 hidden layers, 4 nodes     100000         0.0014           0.0019   \n",
            "3  2 hidden layers, 4 nodes       1000         0.2160           0.2386   \n",
            "4  2 hidden layers, 4 nodes      10000         0.0061           0.0081   \n",
            "5  2 hidden layers, 4 nodes     100000         0.0017           0.0023   \n",
            "\n",
            "  Time of execution  \n",
            "0   1679.13 seconds  \n",
            "1   1499.21 seconds  \n",
            "2   1463.70 seconds  \n",
            "3   1561.62 seconds  \n",
            "4   1382.20 seconds  \n",
            "5   1310.42 seconds  \n"
          ]
        }
      ]
    }
  ]
}